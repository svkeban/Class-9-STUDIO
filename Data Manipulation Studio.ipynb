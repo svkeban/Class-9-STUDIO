{
 "cells": [
  {
   "cell_type": "markdown",
   "id": "1894ccac",
   "metadata": {},
   "source": [
    "# Data Manipulation Studio\n",
    "\n",
    "For this studio, we will revisit our California farmers looking for advice on growing pumpkins and the same [pumpkins dataset](https://www.kaggle.com/usda/a-year-of-pumpkin-prices) as provided by the U.S. Department of Agriculture. You may have to clean data in the process of data manipulation, so feel free to pull up your notebook from the last class's studio.\n",
    "\n",
    "We will now be focusing our attention on a different region in the United States, the Northeast. When you open up the `dataset` folder, you will have 13 CSVs, including the San Francisco and Los Angeles data from the last lesson. The 13 CSVs are each a different terminal market in the United States.\n",
    "\n",
    "## Getting Started\n",
    "\n",
    "Import the CSVs for each of the following cities: Baltimore, Boston, New York, and Philadelphia. Set up a dataframe for each city."
   ]
  },
  {
   "cell_type": "code",
   "execution_count": 341,
   "id": "66c9a7e7",
   "metadata": {},
   "outputs": [
    {
     "data": {
      "text/plain": [
       "(112, 25)"
      ]
     },
     "execution_count": 341,
     "metadata": {},
     "output_type": "execute_result"
    }
   ],
   "source": [
    "# Import the necessary libraries and CSVs. Make some dataframes!\n",
    "import pandas as pd\n",
    "import numpy as np\n",
    "import matplotlib as plt\n",
    "\n",
    "new_york_pumkins = pd.read_csv('new-york_9-24-2016_9-30-2017.csv')\n",
    "baltimore_pumkins = pd.read_csv('baltimore_9-24-2016_9-30-2017.csv')\n",
    "boston_pumpkins = pd.read_csv('boston_9-24-2016_9-30-2017.csv')\n",
    "philadelphia_pumkins = pd.read_csv('philadelphia_9-24-2016_9-30-2017.csv')\n",
    "new_york_pumkins.shape\n"
   ]
  },
  {
   "cell_type": "code",
   "execution_count": 342,
   "id": "28fd0d52",
   "metadata": {},
   "outputs": [
    {
     "data": {
      "text/plain": [
       "(352, 25)"
      ]
     },
     "execution_count": 342,
     "metadata": {},
     "output_type": "execute_result"
    }
   ],
   "source": [
    "boston_pumpkins.shape"
   ]
  },
  {
   "cell_type": "code",
   "execution_count": 343,
   "id": "60cecf18",
   "metadata": {},
   "outputs": [
    {
     "data": {
      "text/plain": [
       "(57, 25)"
      ]
     },
     "execution_count": 343,
     "metadata": {},
     "output_type": "execute_result"
    }
   ],
   "source": [
    "philadelphia_pumkins.shape"
   ]
  },
  {
   "cell_type": "code",
   "execution_count": 344,
   "id": "da07baf0",
   "metadata": {},
   "outputs": [
    {
     "name": "stdout",
     "output_type": "stream",
     "text": [
      "Index(['Commodity Name', 'City Name', 'Type', 'Package', 'Variety',\n",
      "       'Sub Variety', 'Grade', 'Date', 'Low Price', 'High Price', 'Mostly Low',\n",
      "       'Mostly High', 'Origin', 'Origin District', 'Item Size', 'Color',\n",
      "       'Environment', 'Unit of Sale', 'Quality', 'Condition', 'Appearance',\n",
      "       'Storage', 'Crop', 'Repack', 'Trans Mode'],\n",
      "      dtype='object')\n"
     ]
    }
   ],
   "source": [
    "baltimore_pumkins.shape\n",
    "print(baltimore_pumkins.columns)"
   ]
  },
  {
   "cell_type": "markdown",
   "id": "6cfda42f",
   "metadata": {},
   "source": [
    "## Clean Your Data\n",
    "\n",
    "In the last lesson, we cleaned the data to related to San Francisco. Pull up your notebook from the last lesson and use your cleaning skills to clean the dataframes as necessary."
   ]
  },
  {
   "cell_type": "code",
   "execution_count": 345,
   "id": "98abc290",
   "metadata": {},
   "outputs": [
    {
     "data": {
      "text/html": [
       "<div>\n",
       "<style scoped>\n",
       "    .dataframe tbody tr th:only-of-type {\n",
       "        vertical-align: middle;\n",
       "    }\n",
       "\n",
       "    .dataframe tbody tr th {\n",
       "        vertical-align: top;\n",
       "    }\n",
       "\n",
       "    .dataframe thead th {\n",
       "        text-align: right;\n",
       "    }\n",
       "</style>\n",
       "<table border=\"1\" class=\"dataframe\">\n",
       "  <thead>\n",
       "    <tr style=\"text-align: right;\">\n",
       "      <th></th>\n",
       "      <th>City Name</th>\n",
       "      <th>Package</th>\n",
       "      <th>Variety</th>\n",
       "      <th>Date</th>\n",
       "      <th>Low Price</th>\n",
       "      <th>High Price</th>\n",
       "      <th>Origin</th>\n",
       "      <th>Item Size</th>\n",
       "    </tr>\n",
       "  </thead>\n",
       "  <tbody>\n",
       "    <tr>\n",
       "      <th>0</th>\n",
       "      <td>BALTIMORE</td>\n",
       "      <td>24 inch bins</td>\n",
       "      <td>NaN</td>\n",
       "      <td>04/29/2017</td>\n",
       "      <td>270</td>\n",
       "      <td>280.0</td>\n",
       "      <td>NaN</td>\n",
       "      <td>lge</td>\n",
       "    </tr>\n",
       "    <tr>\n",
       "      <th>1</th>\n",
       "      <td>BALTIMORE</td>\n",
       "      <td>24 inch bins</td>\n",
       "      <td>NaN</td>\n",
       "      <td>05/06/2017</td>\n",
       "      <td>270</td>\n",
       "      <td>280.0</td>\n",
       "      <td>NaN</td>\n",
       "      <td>lge</td>\n",
       "    </tr>\n",
       "    <tr>\n",
       "      <th>2</th>\n",
       "      <td>BALTIMORE</td>\n",
       "      <td>24 inch bins</td>\n",
       "      <td>HOWDEN TYPE</td>\n",
       "      <td>09/24/2016</td>\n",
       "      <td>160</td>\n",
       "      <td>160.0</td>\n",
       "      <td>DELAWARE</td>\n",
       "      <td>med</td>\n",
       "    </tr>\n",
       "    <tr>\n",
       "      <th>3</th>\n",
       "      <td>BALTIMORE</td>\n",
       "      <td>24 inch bins</td>\n",
       "      <td>HOWDEN TYPE</td>\n",
       "      <td>09/24/2016</td>\n",
       "      <td>160</td>\n",
       "      <td>160.0</td>\n",
       "      <td>VIRGINIA</td>\n",
       "      <td>med</td>\n",
       "    </tr>\n",
       "    <tr>\n",
       "      <th>4</th>\n",
       "      <td>BALTIMORE</td>\n",
       "      <td>24 inch bins</td>\n",
       "      <td>HOWDEN TYPE</td>\n",
       "      <td>11/05/2016</td>\n",
       "      <td>90</td>\n",
       "      <td>100.0</td>\n",
       "      <td>MARYLAND</td>\n",
       "      <td>lge</td>\n",
       "    </tr>\n",
       "    <tr>\n",
       "      <th>...</th>\n",
       "      <td>...</td>\n",
       "      <td>...</td>\n",
       "      <td>...</td>\n",
       "      <td>...</td>\n",
       "      <td>...</td>\n",
       "      <td>...</td>\n",
       "      <td>...</td>\n",
       "      <td>...</td>\n",
       "    </tr>\n",
       "    <tr>\n",
       "      <th>52</th>\n",
       "      <td>PHILADELPHIA</td>\n",
       "      <td>1/2 bushel cartons</td>\n",
       "      <td>MINIATURE</td>\n",
       "      <td>11/05/2016</td>\n",
       "      <td>16</td>\n",
       "      <td>18.0</td>\n",
       "      <td>OHIO</td>\n",
       "      <td>NaN</td>\n",
       "    </tr>\n",
       "    <tr>\n",
       "      <th>53</th>\n",
       "      <td>PHILADELPHIA</td>\n",
       "      <td>1/2 bushel cartons</td>\n",
       "      <td>MINIATURE</td>\n",
       "      <td>08/26/2017</td>\n",
       "      <td>18</td>\n",
       "      <td>20.0</td>\n",
       "      <td>MICHIGAN</td>\n",
       "      <td>NaN</td>\n",
       "    </tr>\n",
       "    <tr>\n",
       "      <th>54</th>\n",
       "      <td>PHILADELPHIA</td>\n",
       "      <td>1/2 bushel cartons</td>\n",
       "      <td>MINIATURE</td>\n",
       "      <td>09/16/2017</td>\n",
       "      <td>16</td>\n",
       "      <td>16.0</td>\n",
       "      <td>OHIO</td>\n",
       "      <td>NaN</td>\n",
       "    </tr>\n",
       "    <tr>\n",
       "      <th>55</th>\n",
       "      <td>PHILADELPHIA</td>\n",
       "      <td>1/2 bushel cartons</td>\n",
       "      <td>MINIATURE</td>\n",
       "      <td>09/23/2017</td>\n",
       "      <td>15</td>\n",
       "      <td>16.0</td>\n",
       "      <td>OHIO</td>\n",
       "      <td>NaN</td>\n",
       "    </tr>\n",
       "    <tr>\n",
       "      <th>56</th>\n",
       "      <td>PHILADELPHIA</td>\n",
       "      <td>1/2 bushel cartons</td>\n",
       "      <td>MINIATURE</td>\n",
       "      <td>09/30/2017</td>\n",
       "      <td>15</td>\n",
       "      <td>18.0</td>\n",
       "      <td>OHIO</td>\n",
       "      <td>NaN</td>\n",
       "    </tr>\n",
       "  </tbody>\n",
       "</table>\n",
       "<p>674 rows × 8 columns</p>\n",
       "</div>"
      ],
      "text/plain": [
       "       City Name             Package      Variety        Date  Low Price  \\\n",
       "0      BALTIMORE        24 inch bins          NaN  04/29/2017        270   \n",
       "1      BALTIMORE        24 inch bins          NaN  05/06/2017        270   \n",
       "2      BALTIMORE        24 inch bins  HOWDEN TYPE  09/24/2016        160   \n",
       "3      BALTIMORE        24 inch bins  HOWDEN TYPE  09/24/2016        160   \n",
       "4      BALTIMORE        24 inch bins  HOWDEN TYPE  11/05/2016         90   \n",
       "..           ...                 ...          ...         ...        ...   \n",
       "52  PHILADELPHIA  1/2 bushel cartons    MINIATURE  11/05/2016         16   \n",
       "53  PHILADELPHIA  1/2 bushel cartons    MINIATURE  08/26/2017         18   \n",
       "54  PHILADELPHIA  1/2 bushel cartons    MINIATURE  09/16/2017         16   \n",
       "55  PHILADELPHIA  1/2 bushel cartons    MINIATURE  09/23/2017         15   \n",
       "56  PHILADELPHIA  1/2 bushel cartons    MINIATURE  09/30/2017         15   \n",
       "\n",
       "    High Price    Origin Item Size  \n",
       "0        280.0       NaN       lge  \n",
       "1        280.0       NaN       lge  \n",
       "2        160.0  DELAWARE       med  \n",
       "3        160.0  VIRGINIA       med  \n",
       "4        100.0  MARYLAND       lge  \n",
       "..         ...       ...       ...  \n",
       "52        18.0      OHIO       NaN  \n",
       "53        20.0  MICHIGAN       NaN  \n",
       "54        16.0      OHIO       NaN  \n",
       "55        16.0      OHIO       NaN  \n",
       "56        18.0      OHIO       NaN  \n",
       "\n",
       "[674 rows x 8 columns]"
      ]
     },
     "execution_count": 345,
     "metadata": {},
     "output_type": "execute_result"
    }
   ],
   "source": [
    "# Clean your data here!\n",
    "northeastern_pumpkins = pd.concat([baltimore_pumkins, boston_pumpkins, new_york_pumkins, philadelphia_pumkins])\n",
    "\n",
    "columns_to_remove = ['Color', \n",
    "                     'Quality', \n",
    "                     'Condition', \n",
    "                     'Sub Variety', \n",
    "                     'Mostly Low', \n",
    "                     'Mostly High', \n",
    "                     'Appearance', \n",
    "                     'Storage', \n",
    "                     'Crop', \n",
    "                     'Repack',\n",
    "                     'Origin District', \n",
    "                     'Trans Mode',\n",
    "                     'Commodity Name',\n",
    "                     'Unit of Sale',\n",
    "                     'Type',\n",
    "                     'Grade',\n",
    "                     'Environment']\n",
    "\n",
    "cleaned_northeastern_pumpkins = northeastern_pumpkins.drop(columns_to_remove, axis=1)\n",
    "cleaned_northeastern_pumpkins\n",
    "\n"
   ]
  },
  {
   "cell_type": "code",
   "execution_count": 346,
   "id": "b4ec4294",
   "metadata": {},
   "outputs": [
    {
     "name": "stdout",
     "output_type": "stream",
     "text": [
      "City Name     0.0\n",
      "Package       0.0\n",
      "Variety       0.0\n",
      "Date          0.0\n",
      "Low Price     0.0\n",
      "High Price    0.0\n",
      "Origin        1.0\n",
      "Item Size     7.0\n",
      "dtype: float64\n"
     ]
    }
   ],
   "source": [
    "missing_pct = cleaned_northeastern_pumpkins.isna().mean().round(2) * 100\n",
    "print(missing_pct)"
   ]
  },
  {
   "cell_type": "code",
   "execution_count": 347,
   "id": "67d65a90",
   "metadata": {},
   "outputs": [
    {
     "data": {
      "text/plain": [
       "array(['24 inch bins', '36 inch bins', '50 lb sacks',\n",
       "       '1 1/9 bushel cartons', '1/2 bushel cartons',\n",
       "       '1 1/9 bushel crates', 'bushel cartons', 'each'], dtype=object)"
      ]
     },
     "execution_count": 347,
     "metadata": {},
     "output_type": "execute_result"
    }
   ],
   "source": [
    "cleaned_northeastern_pumpkins['Package'].unique()\n"
   ]
  },
  {
   "cell_type": "markdown",
   "id": "e70b01b9",
   "metadata": {},
   "source": [
    "## Combine Your Data\n",
    "\n",
    "Now that you have four clean sets of data, combine all four into one dataframe that represents the entire Northeast region."
   ]
  },
  {
   "cell_type": "code",
   "execution_count": 348,
   "id": "da059f8a",
   "metadata": {},
   "outputs": [
    {
     "name": "stdout",
     "output_type": "stream",
     "text": [
      "<class 'pandas.core.frame.DataFrame'>\n",
      "Int64Index: 674 entries, 0 to 56\n",
      "Data columns (total 8 columns):\n",
      " #   Column      Non-Null Count  Dtype  \n",
      "---  ------      --------------  -----  \n",
      " 0   City Name   674 non-null    object \n",
      " 1   Package     674 non-null    object \n",
      " 2   Variety     672 non-null    object \n",
      " 3   Date        674 non-null    object \n",
      " 4   Low Price   674 non-null    int64  \n",
      " 5   High Price  674 non-null    float64\n",
      " 6   Origin      669 non-null    object \n",
      " 7   Item Size   625 non-null    object \n",
      "dtypes: float64(1), int64(1), object(6)\n",
      "memory usage: 47.4+ KB\n"
     ]
    }
   ],
   "source": [
    "# Combine the four dataframes into one!\n",
    "cleaned_northeastern_pumpkins.info()"
   ]
  },
  {
   "cell_type": "markdown",
   "id": "8590082f",
   "metadata": {},
   "source": [
    "## Answer Some Questions\n",
    "\n",
    "Use `groupby()` and `agg()` to answer the following two questions:\n",
    "\n",
    "1. What is the mean low and high prices for each type of unit of sale in the Northeast region? In the last lesson, we learned that a unit of sale could be something like a bin or individually. \n",
    "2. What is the average number of pumpkins for each variety that came into terminal markets for the year by region? Pumpkin varieties include Howden and Fairytale pumpkins."
   ]
  },
  {
   "cell_type": "code",
   "execution_count": 349,
   "id": "c839639a",
   "metadata": {},
   "outputs": [],
   "source": [
    "# Put your code here to find the mean low and high prices in the Northeast region for each type of unit of sale.\n"
   ]
  },
  {
   "cell_type": "code",
   "execution_count": 350,
   "id": "b4b23352",
   "metadata": {},
   "outputs": [],
   "source": [
    "# Put your code here to find the average number of pumpkins coming into terminal markets of each variety.\n"
   ]
  },
  {
   "cell_type": "markdown",
   "id": "a2e5cff4",
   "metadata": {},
   "source": [
    "## Bonus Mission\n",
    "\n",
    "Try answering the same questions for the Midwest (Chicago, Detroit, and St. Louis) or the Southeast (Atlanta, Columbia, and Miami) regions."
   ]
  },
  {
   "cell_type": "code",
   "execution_count": 351,
   "id": "1d22b7fd",
   "metadata": {},
   "outputs": [],
   "source": [
    "# Try the bonus mission if you have time!"
   ]
  },
  {
   "cell_type": "code",
   "execution_count": null,
   "id": "09dbc152",
   "metadata": {},
   "outputs": [],
   "source": []
  }
 ],
 "metadata": {
  "kernelspec": {
   "display_name": "Python 3",
   "language": "python",
   "name": "python3"
  },
  "language_info": {
   "codemirror_mode": {
    "name": "ipython",
    "version": 3
   },
   "file_extension": ".py",
   "mimetype": "text/x-python",
   "name": "python",
   "nbconvert_exporter": "python",
   "pygments_lexer": "ipython3",
   "version": "3.9.13"
  }
 },
 "nbformat": 4,
 "nbformat_minor": 5
}
